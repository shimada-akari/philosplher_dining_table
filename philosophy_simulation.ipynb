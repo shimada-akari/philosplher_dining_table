{
 "cells": [
  {
   "cell_type": "code",
   "execution_count": 1,
   "metadata": {},
   "outputs": [],
   "source": [
    "import time\n",
    "import threading\n",
    "import matplotlib.pyplot as plt\n",
    "%matplotlib inline\n",
    "import random"
   ]
  },
  {
   "cell_type": "code",
   "execution_count": null,
   "metadata": {},
   "outputs": [],
   "source": []
  },
  {
   "cell_type": "code",
   "execution_count": 5,
   "metadata": {},
   "outputs": [],
   "source": [
    "class Philosopher(threading.Thread):\n",
    "    def __init__(self, name, both_forks):\n",
    "        \"\"\"\n",
    "        both_forks = [1, 2]\n",
    "        \"\"\"\n",
    "        super().__init__()\n",
    "        self.name = name\n",
    "        self.both_forks = both_forks #食事に必要なフォーク番号\n",
    "        self.hold_forks = [] #現時点で持っているフォーク番号\n",
    "        self.state = 0 \n",
    "        \"\"\"\n",
    "        self.state: 現在の状況\n",
    "        0: hold noting(hungry)   \n",
    "        1:pickup1, \n",
    "        2:pickup2(eating), \n",
    "        3:puts1, \n",
    "        4:puts2(thinking)\n",
    "        \"\"\"\n",
    "        \n",
    "    def pick_up_fork(self, Forks):\n",
    "        if self.state == 0:\n",
    "            wait_fork = random.choice(self.both_forks)\n",
    "            get_forks(wait_fork, Forks, self.hold_forks, self.name)\n",
    "            self.state = 1\n",
    "            \n",
    "        elif self.state == 1:\n",
    "            wait_fork = list(set(self.both_forks) - set(self.hold_forks))[0]\n",
    "            get_forks(wait_fork, Forks, self.hold_forks, self.name)\n",
    "            \n",
    "            self.state = 2\n",
    "            \n",
    "        elif self.state == 2:\n",
    "            put_fork = random.choice(self.hold_forks)\n",
    "            put_forks(put_fork, Forks, self.hold_forks, self.name)\n",
    "            self.state = 3\n",
    "            event.set()\n",
    "            \n",
    "        elif self.state == 3: #食事終了\n",
    "            put_fork = self.hold_forks[0]\n",
    "            put_forks(put_fork, Forks, self.hold_forks, self.name)\n",
    "            self.state = 4\n",
    "            event.set()\n",
    "        \n",
    "    def action(self, Forks):\n",
    "        for i in range(10):\n",
    "            if self.state == 0:\n",
    "                print(\"{} is hungry.\".format(self.name))\n",
    "                wait_time()\n",
    "                self.pick_up_fork(Forks)\n",
    "\n",
    "            elif self.state == 2:\n",
    "                print(\"{} is eating.\".format(self.name))\n",
    "                wait_time()\n",
    "                self.pick_up_fork(Forks)\n",
    "                \n",
    "            elif self.state == 1 or self.state == 3:\n",
    "                self.pick_up_fork(Forks)\n",
    "                \n",
    "            elif self.state == 4:\n",
    "                print(\"{} is thinking.\".format(self.name))\n",
    "                wait_time()\n",
    "                self.state = 0\n",
    "            "
   ]
  },
  {
   "cell_type": "code",
   "execution_count": 6,
   "metadata": {},
   "outputs": [],
   "source": [
    "def wait_time():\n",
    "    t = random.random() * 2\n",
    "    time.sleep(t)"
   ]
  },
  {
   "cell_type": "code",
   "execution_count": 7,
   "metadata": {},
   "outputs": [],
   "source": [
    "def put_forks(fork_num, Forks_class, hold_forks, name):\n",
    "    Forks_class.change_state(fork_num)\n",
    "    print(\"{} puts {}.\".format(name,fork_num))\n",
    "#     print(\"hold_forks\", hold_forks)\n",
    "    hold_forks.remove(fork_num)\n",
    "\n",
    "    event.set()"
   ]
  },
  {
   "cell_type": "code",
   "execution_count": 8,
   "metadata": {},
   "outputs": [],
   "source": [
    "def get_forks(fork_num, Forks_class, hold_forks, name):\n",
    "    while not Forks_class.get_fork_state(fork_num):\n",
    "        event.wait()\n",
    "        \n",
    "    Forks_class.change_state(fork_num) #使用中に変更\n",
    "    hold_forks.append(fork_num)\n",
    "    print(\"{} picks up {}.\".format(name, fork_num))\n",
    "    return fork_num"
   ]
  },
  {
   "cell_type": "code",
   "execution_count": 9,
   "metadata": {},
   "outputs": [],
   "source": [
    "class Forks:\n",
    "    def __init__(self):\n",
    "        self.fork_num_dic = {1: True, 2:True, 3:True, 4:True}\n",
    "        \n",
    "    def get_fork_state(self, fork_num):\n",
    "        return self.fork_num_dic[fork_num] #True：空き、False:使用中\n",
    "    \n",
    "    def change_state(self, fork_num):\n",
    "        if self.fork_num_dic[fork_num]: #TrueならFlaseへ\n",
    "            self.fork_num_dic[fork_num] = False\n",
    "        else:\n",
    "            self.fork_num_dic[fork_num] = True\n",
    "        "
   ]
  },
  {
   "cell_type": "code",
   "execution_count": null,
   "metadata": {},
   "outputs": [],
   "source": []
  },
  {
   "cell_type": "code",
   "execution_count": 30,
   "metadata": {},
   "outputs": [],
   "source": [
    "\n",
    "fork = Forks()\n",
    "phi_a = Philosopher(\"a\", [1, 2])\n",
    "phi_b = Philosopher(\"b\", [2, 3])\n",
    "phi_c = Philosopher(\"c\", [3, 4])\n",
    "phi_d = Philosopher(\"d\", [4, 1])"
   ]
  },
  {
   "cell_type": "code",
   "execution_count": 31,
   "metadata": {},
   "outputs": [],
   "source": [
    "event = threading.Event()"
   ]
  },
  {
   "cell_type": "code",
   "execution_count": 32,
   "metadata": {},
   "outputs": [],
   "source": [
    "thread_a = threading.Thread(target= phi_a.action, args=(fork, ))\n",
    "thread_b = threading.Thread(target= phi_b.action, args=(fork, ))"
   ]
  },
  {
   "cell_type": "code",
   "execution_count": 33,
   "metadata": {},
   "outputs": [
    {
     "name": "stdout",
     "output_type": "stream",
     "text": [
      "a is hungry.\n",
      "b is hungry.\n",
      "a picks up 1.\n",
      "a picks up 2.\n",
      "a is eating.\n",
      "a puts 2.\n",
      "a puts 1.\n",
      "a is thinking.\n",
      "b picks up 2.\n",
      "b picks up 3.\n",
      "b is eating.\n",
      "a is hungry.\n",
      "b puts 2.a picks up 2.\n",
      "a picks up 1.\n",
      "a is eating.\n",
      "\n",
      "b puts 3.\n",
      "b is thinking.\n",
      "b is hungry.\n",
      "b picks up 3.\n",
      "a puts 1.\n",
      "a puts 2.\n",
      "a is thinking.\n",
      "b picks up 2.\n",
      "b is eating.\n",
      "b puts 2.\n",
      "b puts 3.\n",
      "b is thinking.\n"
     ]
    }
   ],
   "source": [
    "thread_a.start()\n",
    "thread_b.start()"
   ]
  },
  {
   "cell_type": "code",
   "execution_count": null,
   "metadata": {},
   "outputs": [],
   "source": []
  },
  {
   "cell_type": "code",
   "execution_count": null,
   "metadata": {},
   "outputs": [],
   "source": []
  },
  {
   "cell_type": "code",
   "execution_count": null,
   "metadata": {},
   "outputs": [],
   "source": []
  },
  {
   "cell_type": "code",
   "execution_count": null,
   "metadata": {},
   "outputs": [],
   "source": []
  },
  {
   "cell_type": "code",
   "execution_count": 10,
   "metadata": {},
   "outputs": [],
   "source": [
    "\n",
    "fork = Forks()\n",
    "phi_a = Philosopher(\"a\", [1, 2])\n",
    "phi_b = Philosopher(\"b\", [2, 3])\n",
    "phi_c = Philosopher(\"c\", [3, 4])\n",
    "phi_d = Philosopher(\"d\", [4, 1])"
   ]
  },
  {
   "cell_type": "code",
   "execution_count": 11,
   "metadata": {},
   "outputs": [],
   "source": [
    "event = threading.Event()"
   ]
  },
  {
   "cell_type": "code",
   "execution_count": 12,
   "metadata": {},
   "outputs": [],
   "source": [
    "thread_a = threading.Thread(target= phi_a.action, args=(fork, ))\n",
    "thread_b = threading.Thread(target= phi_b.action, args=(fork, ))\n",
    "thread_c = threading.Thread(target= phi_c.action, args=(fork, ))\n",
    "thread_d = threading.Thread(target= phi_d.action, args=(fork, ))"
   ]
  },
  {
   "cell_type": "code",
   "execution_count": 13,
   "metadata": {},
   "outputs": [
    {
     "name": "stdout",
     "output_type": "stream",
     "text": [
      "a is hungry.\n",
      "b is hungry.\n",
      "c is hungry.\n",
      "d is hungry.\n",
      "b picks up 2.\n",
      "b picks up 3.\n",
      "b is eating.\n",
      "d picks up 4.\n",
      "d picks up 1.\n",
      "d is eating.\n",
      "b puts 3.\n",
      "b puts 2.\n",
      "b is thinking.\n",
      "a picks up 2.\n",
      "d puts 4.c picks up 4.\n",
      "d puts 1.\n",
      "d is thinking.\n",
      "a picks up 1.\n",
      "c picks up 3.\n",
      "c is eating.\n",
      "\n",
      "a is eating.\n",
      "c puts 4.\n",
      "c puts 3.\n",
      "c is thinking.\n",
      "b is hungry.\n",
      "d is hungry.\n",
      "a puts 1.d picks up 1.\n",
      "\n",
      "d picks up 4.\n",
      "d is eating.\n",
      "a puts 2.\n",
      "a is thinking.\n",
      "b picks up 2.\n",
      "b picks up 3.\n",
      "b is eating.\n",
      "d puts 4.\n",
      "d puts 1.\n",
      "d is thinking.\n",
      "c is hungry.\n",
      "a is hungry.\n",
      "b puts 3.\n",
      "b puts 2.\n",
      "b is thinking.\n",
      "a picks up 2.\n",
      "a picks up 1.\n",
      "a is eating.\n",
      "c picks up 3.\n",
      "c picks up 4.\n",
      "c is eating.\n",
      "c puts 3.\n",
      "c puts 4.\n",
      "c is thinking.\n",
      "a puts 2.\n",
      "a puts 1.\n",
      "a is thinking.\n"
     ]
    }
   ],
   "source": [
    "thread_a.start()\n",
    "thread_b.start()\n",
    "thread_c.start()\n",
    "thread_d.start()"
   ]
  },
  {
   "cell_type": "code",
   "execution_count": null,
   "metadata": {},
   "outputs": [],
   "source": []
  }
 ],
 "metadata": {
  "kernelspec": {
   "display_name": "Python 3",
   "language": "python",
   "name": "python3"
  },
  "language_info": {
   "codemirror_mode": {
    "name": "ipython",
    "version": 3
   },
   "file_extension": ".py",
   "mimetype": "text/x-python",
   "name": "python",
   "nbconvert_exporter": "python",
   "pygments_lexer": "ipython3",
   "version": "3.8.5"
  }
 },
 "nbformat": 4,
 "nbformat_minor": 4
}
